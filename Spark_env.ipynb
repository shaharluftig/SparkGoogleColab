{
  "nbformat": 4,
  "nbformat_minor": 0,
  "metadata": {
    "colab": {
      "name": "Spark_env.ipynb",
      "provenance": [],
      "include_colab_link": true
    },
    "kernelspec": {
      "name": "python3",
      "display_name": "Python 3"
    },
    "language_info": {
      "name": "python"
    }
  },
  "cells": [
    {
      "cell_type": "markdown",
      "metadata": {
        "id": "view-in-github",
        "colab_type": "text"
      },
      "source": [
        "<a href=\"https://colab.research.google.com/github/shaharluftig/SparkGoogleColab/blob/main/Spark_env.ipynb\" target=\"_parent\"><img src=\"https://colab.research.google.com/assets/colab-badge.svg\" alt=\"Open In Colab\"/></a>"
      ]
    },
    {
      "cell_type": "code",
      "metadata": {
        "id": "xS64OEkhQE9B"
      },
      "source": [
        "!apt-get update\n",
        "!apt-get install openjdk-8-jdk-headless -qq > /dev/null\n",
        "!wget -q http://archive.apache.org/dist/spark/spark-2.3.1/spark-2.3.1-bin-hadoop2.7.tgz\n",
        "!tar xf spark-2.3.1-bin-hadoop2.7.tgz\n",
        "!pip install -q findspark"
      ],
      "execution_count": null,
      "outputs": []
    },
    {
      "cell_type": "code",
      "metadata": {
        "id": "kqsx2WAOQRIC"
      },
      "source": [
        "import os\n",
        "os.environ[\"JAVA_HOME\"] = \"/usr/lib/jvm/java-8-openjdk-amd64\"\n",
        "os.environ[\"SPARK_HOME\"] = \"/content/spark-2.3.1-bin-hadoop2.7\"\n",
        "\n",
        "import findspark\n",
        "findspark.init()\n",
        "from pyspark import SparkContext\n",
        "\n",
        "sc = SparkContext.getOrCreate()\n",
        "sc\n",
        "\n",
        "import pyspark\n",
        "from pyspark.sql import SparkSession\n",
        "from pyspark.sql import functions as F\n",
        "spark = SparkSession.builder.getOrCreate() \n",
        "spark"
      ],
      "execution_count": null,
      "outputs": []
    },
    {
      "cell_type": "code",
      "metadata": {
        "id": "j1UBSnYXJgQW",
        "colab": {
          "base_uri": "https://localhost:8080/"
        },
        "outputId": "6d510659-b097-4fc1-dd0e-3bcf56957ed9"
      },
      "source": [
        "menu = spark.read.json('/content/sample_data/menu.json')\n",
        "menu.show()"
      ],
      "execution_count": null,
      "outputs": [
        {
          "output_type": "stream",
          "name": "stdout",
          "text": [
            "+------------------+--------------+-----+\n",
            "|   _corrupt_record|       onclick|value|\n",
            "+------------------+--------------+-----+\n",
            "|        {\"menu\": {|          null| null|\n",
            "|     \"id\": \"file\",|          null| null|\n",
            "|  \"value\": \"File\",|          null| null|\n",
            "|        \"popup\": {|          null| null|\n",
            "|     \"menuitem\": [|          null| null|\n",
            "|              null|CreateNewDoc()|  New|\n",
            "|              null|     OpenDoc()| Open|\n",
            "|              null|    CloseDoc()|Close|\n",
            "|                 ]|          null| null|\n",
            "|                 }|          null| null|\n",
            "|                }}|          null| null|\n",
            "+------------------+--------------+-----+\n",
            "\n"
          ]
        }
      ]
    },
    {
      "cell_type": "code",
      "metadata": {
        "colab": {
          "base_uri": "https://localhost:8080/"
        },
        "id": "G0llZ7gw6-R4",
        "outputId": "299d7c42-4e9d-4104-be24-a4d6a93143c3"
      },
      "source": [
        "menu.printSchema()"
      ],
      "execution_count": null,
      "outputs": [
        {
          "output_type": "stream",
          "name": "stdout",
          "text": [
            "root\n",
            " |-- _corrupt_record: string (nullable = true)\n",
            " |-- onclick: string (nullable = true)\n",
            " |-- value: string (nullable = true)\n",
            "\n"
          ]
        }
      ]
    }
  ]
}